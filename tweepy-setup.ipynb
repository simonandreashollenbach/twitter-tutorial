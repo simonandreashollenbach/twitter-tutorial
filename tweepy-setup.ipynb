{
 "cells": [
  {
   "cell_type": "markdown",
   "metadata": {
    "slideshow": {
     "slide_type": "slide"
    }
   },
   "source": [
    "# Make a connection to Twitter with Tweepy"
   ]
  },
  {
   "cell_type": "markdown",
   "metadata": {
    "slideshow": {
     "slide_type": "slide"
    }
   },
   "source": [
    "## Setup\n",
    "\n",
    "Use your Anaconda environment \"twitter\" and import tweepy."
   ]
  },
  {
   "cell_type": "code",
   "execution_count": 1,
   "metadata": {
    "slideshow": {
     "slide_type": "fragment"
    }
   },
   "outputs": [],
   "source": [
    "import tweepy"
   ]
  },
  {
   "cell_type": "markdown",
   "metadata": {
    "slideshow": {
     "slide_type": "slide"
    }
   },
   "source": [
    "## Make a connection with API v2\n",
    "\n",
    "Next, we import the keys:"
   ]
  },
  {
   "cell_type": "code",
   "execution_count": 2,
   "metadata": {
    "slideshow": {
     "slide_type": "fragment"
    }
   },
   "outputs": [],
   "source": [
    "from keys import *"
   ]
  },
  {
   "cell_type": "markdown",
   "metadata": {},
   "source": [
    "We use the keys in the function [tweepy.Client](https://docs.tweepy.org/en/stable/client.html):"
   ]
  },
  {
   "cell_type": "code",
   "execution_count": 3,
   "metadata": {
    "slideshow": {
     "slide_type": "fragment"
    }
   },
   "outputs": [],
   "source": [
    "import requests\n",
    "\n",
    "client = tweepy.Client( bearer_token=bearer_token, \n",
    "                        consumer_key=consumer_key, \n",
    "                        consumer_secret=consumer_secret, \n",
    "                        access_token=access_token, \n",
    "                        access_token_secret=access_token_secret, \n",
    "                        return_type = requests.Response,\n",
    "                        wait_on_rate_limit=True)"
   ]
  },
  {
   "cell_type": "markdown",
   "metadata": {
    "slideshow": {
     "slide_type": "slide"
    }
   },
   "source": [
    "## Make a query"
   ]
  },
  {
   "cell_type": "markdown",
   "metadata": {
    "slideshow": {
     "slide_type": "fragment"
    }
   },
   "source": [
    "- Let's search Tweets from Barack Obama's Twitter account (@BarackObama) \n",
    "\n",
    "- We want to exclude Retweets\n"
   ]
  },
  {
   "cell_type": "code",
   "execution_count": 4,
   "metadata": {},
   "outputs": [],
   "source": [
    "# Define a simple query: Name the account and exclude retweets\n",
    "my_query = 'from:BBCBreaking -is:retweet'"
   ]
  },
  {
   "cell_type": "markdown",
   "metadata": {},
   "source": [
    "- We use the function ([`search_recent_tweets`](https://developer.twitter.com/en/docs/twitter-api/tweets/search/api-reference/get-tweets-search-recent)) to get tweets from the last 7 days\n",
    "\n",
    " \n",
    "- We include some additional information with `tweet_fields`: `author_id` and `created_at` (when the Tweet was created) \n",
    " \n",
    "\n",
    "- We limit the result to a maximum of 100 Tweets. "
   ]
  },
  {
   "cell_type": "code",
   "execution_count": 5,
   "metadata": {
    "slideshow": {
     "slide_type": "slide"
    }
   },
   "outputs": [],
   "source": [
    "# Obtain tweets using the defined query from above\n",
    "tweets = client.search_recent_tweets(query=my_query, \n",
    "                                    tweet_fields=['author_id', 'created_at'],\n",
    "                                     max_results=100)"
   ]
  },
  {
   "cell_type": "markdown",
   "metadata": {
    "slideshow": {
     "slide_type": "slide"
    }
   },
   "source": [
    "## Convert to pandas Dataframe\n",
    "\n",
    "Finally, we convert the data to a pandas Dataframe. "
   ]
  },
  {
   "cell_type": "code",
   "execution_count": 6,
   "metadata": {
    "slideshow": {
     "slide_type": "slide"
    }
   },
   "outputs": [],
   "source": [
    "import pandas as pd\n",
    "\n",
    "# Save data as dictionary\n",
    "tweets_dict = tweets.json() \n",
    "\n",
    "# Extract \"data\" value from dictionary\n",
    "tweets_data = tweets_dict['data'] \n",
    "\n",
    "# Transform to pandas Dataframe\n",
    "df = pd.json_normalize(tweets_data) \n"
   ]
  },
  {
   "cell_type": "code",
   "execution_count": 7,
   "metadata": {
    "slideshow": {
     "slide_type": "slide"
    }
   },
   "outputs": [
    {
     "data": {
      "text/html": [
       "<div>\n",
       "<style scoped>\n",
       "    .dataframe tbody tr th:only-of-type {\n",
       "        vertical-align: middle;\n",
       "    }\n",
       "\n",
       "    .dataframe tbody tr th {\n",
       "        vertical-align: top;\n",
       "    }\n",
       "\n",
       "    .dataframe thead th {\n",
       "        text-align: right;\n",
       "    }\n",
       "</style>\n",
       "<table border=\"1\" class=\"dataframe\">\n",
       "  <thead>\n",
       "    <tr style=\"text-align: right;\">\n",
       "      <th></th>\n",
       "      <th>id</th>\n",
       "      <th>created_at</th>\n",
       "      <th>author_id</th>\n",
       "      <th>text</th>\n",
       "      <th>edit_history_tweet_ids</th>\n",
       "    </tr>\n",
       "  </thead>\n",
       "  <tbody>\n",
       "    <tr>\n",
       "      <th>0</th>\n",
       "      <td>1584862619642503169</td>\n",
       "      <td>2022-10-25T11:01:08.000Z</td>\n",
       "      <td>5402612</td>\n",
       "      <td>Prime Minister Rishi Sunak says he will fix mi...</td>\n",
       "      <td>[1584862619642503169]</td>\n",
       "    </tr>\n",
       "    <tr>\n",
       "      <th>1</th>\n",
       "      <td>1584857155605336070</td>\n",
       "      <td>2022-10-25T10:39:25.000Z</td>\n",
       "      <td>5402612</td>\n",
       "      <td>See the moment Rishi Sunak meets King Charles ...</td>\n",
       "      <td>[1584857155605336070]</td>\n",
       "    </tr>\n",
       "    <tr>\n",
       "      <th>2</th>\n",
       "      <td>1584838786197987328</td>\n",
       "      <td>2022-10-25T09:26:26.000Z</td>\n",
       "      <td>5402612</td>\n",
       "      <td>\"I know brighter days lie ahead\"\\n\\nUK's short...</td>\n",
       "      <td>[1584838786197987328]</td>\n",
       "    </tr>\n",
       "    <tr>\n",
       "      <th>3</th>\n",
       "      <td>1584600252509786124</td>\n",
       "      <td>2022-10-24T17:38:35.000Z</td>\n",
       "      <td>5402612</td>\n",
       "      <td>Rishi Sunak to take over as UK prime minister ...</td>\n",
       "      <td>[1584600252509786124]</td>\n",
       "    </tr>\n",
       "    <tr>\n",
       "      <th>4</th>\n",
       "      <td>1584565235125477379</td>\n",
       "      <td>2022-10-24T15:19:26.000Z</td>\n",
       "      <td>5402612</td>\n",
       "      <td>\"I pledge that I will serve you with integrity...</td>\n",
       "      <td>[1584565235125477379]</td>\n",
       "    </tr>\n",
       "    <tr>\n",
       "      <th>5</th>\n",
       "      <td>1584563215362654208</td>\n",
       "      <td>2022-10-24T15:11:24.000Z</td>\n",
       "      <td>5402612</td>\n",
       "      <td>Rishi Sunak speaks publicly for the first time...</td>\n",
       "      <td>[1584563215362654208]</td>\n",
       "    </tr>\n",
       "    <tr>\n",
       "      <th>6</th>\n",
       "      <td>1584533187186794497</td>\n",
       "      <td>2022-10-24T13:12:05.000Z</td>\n",
       "      <td>5402612</td>\n",
       "      <td>@BBCNews Sir Graham Brady, chairman of 1922 Co...</td>\n",
       "      <td>[1584533187186794497]</td>\n",
       "    </tr>\n",
       "    <tr>\n",
       "      <th>7</th>\n",
       "      <td>1584530924506595328</td>\n",
       "      <td>2022-10-24T13:03:06.000Z</td>\n",
       "      <td>5402612</td>\n",
       "      <td>Rishi Sunak set to become the UK's first Briti...</td>\n",
       "      <td>[1584530924506595328]</td>\n",
       "    </tr>\n",
       "    <tr>\n",
       "      <th>8</th>\n",
       "      <td>1584275907090714624</td>\n",
       "      <td>2022-10-23T20:09:45.000Z</td>\n",
       "      <td>5402612</td>\n",
       "      <td>Boris Johnson drops out of race to be UK Conse...</td>\n",
       "      <td>[1584275907090714624]</td>\n",
       "    </tr>\n",
       "    <tr>\n",
       "      <th>9</th>\n",
       "      <td>1584039298755547137</td>\n",
       "      <td>2022-10-23T04:29:33.000Z</td>\n",
       "      <td>5402612</td>\n",
       "      <td>Xi Jinping secures a historic third term, ceme...</td>\n",
       "      <td>[1584039298755547137]</td>\n",
       "    </tr>\n",
       "    <tr>\n",
       "      <th>10</th>\n",
       "      <td>1583769709689769984</td>\n",
       "      <td>2022-10-22T10:38:18.000Z</td>\n",
       "      <td>5402612</td>\n",
       "      <td>12-year-old boy dies and man pulled from rubbl...</td>\n",
       "      <td>[1583769709689769984]</td>\n",
       "    </tr>\n",
       "    <tr>\n",
       "      <th>11</th>\n",
       "      <td>1583519424166129664</td>\n",
       "      <td>2022-10-21T18:03:45.000Z</td>\n",
       "      <td>5402612</td>\n",
       "      <td>Committee investigating former US President Do...</td>\n",
       "      <td>[1583519424166129664]</td>\n",
       "    </tr>\n",
       "    <tr>\n",
       "      <th>12</th>\n",
       "      <td>1583476271224279040</td>\n",
       "      <td>2022-10-21T15:12:17.000Z</td>\n",
       "      <td>5402612</td>\n",
       "      <td>Ex-US President Donald Trump's former top advi...</td>\n",
       "      <td>[1583476271224279040]</td>\n",
       "    </tr>\n",
       "    <tr>\n",
       "      <th>13</th>\n",
       "      <td>1583404687667040262</td>\n",
       "      <td>2022-10-21T10:27:50.000Z</td>\n",
       "      <td>5402612</td>\n",
       "      <td>Labour MP Christian Matheson should be suspend...</td>\n",
       "      <td>[1583404687667040262]</td>\n",
       "    </tr>\n",
       "    <tr>\n",
       "      <th>14</th>\n",
       "      <td>1583348970675240963</td>\n",
       "      <td>2022-10-21T06:46:26.000Z</td>\n",
       "      <td>5402612</td>\n",
       "      <td>UK government borrowing rose last month, and r...</td>\n",
       "      <td>[1583348970675240963]</td>\n",
       "    </tr>\n",
       "    <tr>\n",
       "      <th>15</th>\n",
       "      <td>1583085792377044993</td>\n",
       "      <td>2022-10-20T13:20:39.000Z</td>\n",
       "      <td>5402612</td>\n",
       "      <td>Anne Sacoolas admits causing Harry Dunn's deat...</td>\n",
       "      <td>[1583085792377044993]</td>\n",
       "    </tr>\n",
       "    <tr>\n",
       "      <th>16</th>\n",
       "      <td>1583076192873168896</td>\n",
       "      <td>2022-10-20T12:42:31.000Z</td>\n",
       "      <td>5402612</td>\n",
       "      <td>\"I cannot deliver the mandate on which I was e...</td>\n",
       "      <td>[1583076192873168896]</td>\n",
       "    </tr>\n",
       "    <tr>\n",
       "      <th>17</th>\n",
       "      <td>1583075323972763651</td>\n",
       "      <td>2022-10-20T12:39:04.000Z</td>\n",
       "      <td>5402612</td>\n",
       "      <td>There will be a leadership election within a w...</td>\n",
       "      <td>[1583075323972763651]</td>\n",
       "    </tr>\n",
       "    <tr>\n",
       "      <th>18</th>\n",
       "      <td>1583074397765918721</td>\n",
       "      <td>2022-10-20T12:35:23.000Z</td>\n",
       "      <td>5402612</td>\n",
       "      <td>Liz Truss to resign as UK prime minister after...</td>\n",
       "      <td>[1583074397765918721]</td>\n",
       "    </tr>\n",
       "    <tr>\n",
       "      <th>19</th>\n",
       "      <td>1582769682821828609</td>\n",
       "      <td>2022-10-19T16:24:33.000Z</td>\n",
       "      <td>5402612</td>\n",
       "      <td>Grant Shapps to be UK home secretary after Sue...</td>\n",
       "      <td>[1582769682821828609]</td>\n",
       "    </tr>\n",
       "    <tr>\n",
       "      <th>20</th>\n",
       "      <td>1582757875297812480</td>\n",
       "      <td>2022-10-19T15:37:38.000Z</td>\n",
       "      <td>5402612</td>\n",
       "      <td>Suella Braverman has resigned as UK home secre...</td>\n",
       "      <td>[1582757875297812480]</td>\n",
       "    </tr>\n",
       "    <tr>\n",
       "      <th>21</th>\n",
       "      <td>1582730264874303488</td>\n",
       "      <td>2022-10-19T13:47:55.000Z</td>\n",
       "      <td>5402612</td>\n",
       "      <td>Hong Kong pro-democracy protester gives his ac...</td>\n",
       "      <td>[1582730264874303488]</td>\n",
       "    </tr>\n",
       "  </tbody>\n",
       "</table>\n",
       "</div>"
      ],
      "text/plain": [
       "                     id                created_at author_id  \\\n",
       "0   1584862619642503169  2022-10-25T11:01:08.000Z   5402612   \n",
       "1   1584857155605336070  2022-10-25T10:39:25.000Z   5402612   \n",
       "2   1584838786197987328  2022-10-25T09:26:26.000Z   5402612   \n",
       "3   1584600252509786124  2022-10-24T17:38:35.000Z   5402612   \n",
       "4   1584565235125477379  2022-10-24T15:19:26.000Z   5402612   \n",
       "5   1584563215362654208  2022-10-24T15:11:24.000Z   5402612   \n",
       "6   1584533187186794497  2022-10-24T13:12:05.000Z   5402612   \n",
       "7   1584530924506595328  2022-10-24T13:03:06.000Z   5402612   \n",
       "8   1584275907090714624  2022-10-23T20:09:45.000Z   5402612   \n",
       "9   1584039298755547137  2022-10-23T04:29:33.000Z   5402612   \n",
       "10  1583769709689769984  2022-10-22T10:38:18.000Z   5402612   \n",
       "11  1583519424166129664  2022-10-21T18:03:45.000Z   5402612   \n",
       "12  1583476271224279040  2022-10-21T15:12:17.000Z   5402612   \n",
       "13  1583404687667040262  2022-10-21T10:27:50.000Z   5402612   \n",
       "14  1583348970675240963  2022-10-21T06:46:26.000Z   5402612   \n",
       "15  1583085792377044993  2022-10-20T13:20:39.000Z   5402612   \n",
       "16  1583076192873168896  2022-10-20T12:42:31.000Z   5402612   \n",
       "17  1583075323972763651  2022-10-20T12:39:04.000Z   5402612   \n",
       "18  1583074397765918721  2022-10-20T12:35:23.000Z   5402612   \n",
       "19  1582769682821828609  2022-10-19T16:24:33.000Z   5402612   \n",
       "20  1582757875297812480  2022-10-19T15:37:38.000Z   5402612   \n",
       "21  1582730264874303488  2022-10-19T13:47:55.000Z   5402612   \n",
       "\n",
       "                                                 text edit_history_tweet_ids  \n",
       "0   Prime Minister Rishi Sunak says he will fix mi...  [1584862619642503169]  \n",
       "1   See the moment Rishi Sunak meets King Charles ...  [1584857155605336070]  \n",
       "2   \"I know brighter days lie ahead\"\\n\\nUK's short...  [1584838786197987328]  \n",
       "3   Rishi Sunak to take over as UK prime minister ...  [1584600252509786124]  \n",
       "4   \"I pledge that I will serve you with integrity...  [1584565235125477379]  \n",
       "5   Rishi Sunak speaks publicly for the first time...  [1584563215362654208]  \n",
       "6   @BBCNews Sir Graham Brady, chairman of 1922 Co...  [1584533187186794497]  \n",
       "7   Rishi Sunak set to become the UK's first Briti...  [1584530924506595328]  \n",
       "8   Boris Johnson drops out of race to be UK Conse...  [1584275907090714624]  \n",
       "9   Xi Jinping secures a historic third term, ceme...  [1584039298755547137]  \n",
       "10  12-year-old boy dies and man pulled from rubbl...  [1583769709689769984]  \n",
       "11  Committee investigating former US President Do...  [1583519424166129664]  \n",
       "12  Ex-US President Donald Trump's former top advi...  [1583476271224279040]  \n",
       "13  Labour MP Christian Matheson should be suspend...  [1583404687667040262]  \n",
       "14  UK government borrowing rose last month, and r...  [1583348970675240963]  \n",
       "15  Anne Sacoolas admits causing Harry Dunn's deat...  [1583085792377044993]  \n",
       "16  \"I cannot deliver the mandate on which I was e...  [1583076192873168896]  \n",
       "17  There will be a leadership election within a w...  [1583075323972763651]  \n",
       "18  Liz Truss to resign as UK prime minister after...  [1583074397765918721]  \n",
       "19  Grant Shapps to be UK home secretary after Sue...  [1582769682821828609]  \n",
       "20  Suella Braverman has resigned as UK home secre...  [1582757875297812480]  \n",
       "21  Hong Kong pro-democracy protester gives his ac...  [1582730264874303488]  "
      ]
     },
     "execution_count": 7,
     "metadata": {},
     "output_type": "execute_result"
    }
   ],
   "source": [
    "df"
   ]
  },
  {
   "cell_type": "code",
   "execution_count": 8,
   "metadata": {
    "slideshow": {
     "slide_type": "slide"
    }
   },
   "outputs": [],
   "source": [
    "# save df in our folder\n",
    "df.to_csv(\"tweets-bbc.csv\")"
   ]
  },
  {
   "cell_type": "markdown",
   "metadata": {},
   "source": [
    "Take a look at your VS Code Explorer to verify that the file \"tweets-obama.csv\" was created."
   ]
  }
 ],
 "metadata": {
  "celltoolbar": "Slideshow",
  "kernelspec": {
   "display_name": "Python 3.9.13 ('twitter')",
   "language": "python",
   "name": "python3"
  },
  "language_info": {
   "codemirror_mode": {
    "name": "ipython",
    "version": 3
   },
   "file_extension": ".py",
   "mimetype": "text/x-python",
   "name": "python",
   "nbconvert_exporter": "python",
   "pygments_lexer": "ipython3",
   "version": "3.9.13"
  },
  "varInspector": {
   "cols": {
    "lenName": 16,
    "lenType": 16,
    "lenVar": 40
   },
   "kernels_config": {
    "python": {
     "delete_cmd_postfix": "",
     "delete_cmd_prefix": "del ",
     "library": "var_list.py",
     "varRefreshCmd": "print(var_dic_list())"
    },
    "r": {
     "delete_cmd_postfix": ") ",
     "delete_cmd_prefix": "rm(",
     "library": "var_list.r",
     "varRefreshCmd": "cat(var_dic_list()) "
    }
   },
   "types_to_exclude": [
    "module",
    "function",
    "builtin_function_or_method",
    "instance",
    "_Feature"
   ],
   "window_display": false
  },
  "vscode": {
   "interpreter": {
    "hash": "f5d4dc5870558719946d1d031d1dbe2f14f43bbf4d53897e6019eb74f4d08266"
   }
  }
 },
 "nbformat": 4,
 "nbformat_minor": 2
}
